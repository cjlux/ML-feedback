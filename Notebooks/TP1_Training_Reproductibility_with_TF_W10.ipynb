{
 "cells": [
  {
   "cell_type": "markdown",
   "metadata": {},
   "source": [
    "<span style=\"font-size:10pt\">Copyright Jean-Luc CHARLES $-$ 2023/06 $-$ CC BY-SA 4.0 $-$  <img src=\"img/CC-BY-SA.jpeg\" width=\"50\"></span> "
   ]
  },
  {
   "cell_type": "markdown",
   "metadata": {
    "tags": []
   },
   "source": [
    "# Reproducibility of neural networks training with TensorFlow <a name=\"top\"></a>\n",
    "\n",
    "## [1 $-$ Import Python modules](#1)\n",
    "## [2 $-$ Reproducibility of pseudo-random generators](#2)\n",
    "## [3 $-$ A simple example with the MNIST hand-written database](#3)\n",
    "## [4 $-$ Build the neural network](#4)\n",
    "## [5 $-$ Reproducibility tests](#5)\n"
   ]
  },
  {
   "cell_type": "markdown",
   "metadata": {},
   "source": [
    "<div class=\"alert alert-block alert-danger\">\n",
    "<span style=\"color:brown;font-family:arial;font-size:normal\"> \n",
    "    It is fundamental to use a <span style=\"font-weight:bold;\">Python Virtual Environment</span> (PVE) for each important Python project: the PVE makes it possible to control for each project the versions of the Python interpreter and \"sensitive\" modules (like tensorflow for example).</span></div>"
   ]
  },
  {
   "cell_type": "markdown",
   "metadata": {},
   "source": [
    "## 1 $-$ Import Python modules <a name=\"1\"></a>"
   ]
  },
  {
   "cell_type": "code",
   "execution_count": 1,
   "metadata": {},
   "outputs": [],
   "source": [
    "import os\n",
    "os.environ['TF_CPP_MIN_LOG_LEVEL'] = '3' #suppress the numerous TensorFlow warnings"
   ]
  },
  {
   "cell_type": "markdown",
   "metadata": {},
   "source": [
    "The **keras** module which allows high level manipulation of **tensorflow** objects is integrated in tensorflow2. <br>\n",
    "The **tf.keras** module documentation to consult for this lab is here: https://www.tensorflow.org/api_docs/python/tf/keras."
   ]
  },
  {
   "cell_type": "code",
   "execution_count": 2,
   "metadata": {
    "tags": []
   },
   "outputs": [
    {
     "name": "stdout",
     "output_type": "stream",
     "text": [
      "Python    : 3.8.13\n",
      "tensorflow: 2.8.0 incluant keras 2.8.0\n",
      "numpy     : 1.23.1\n"
     ]
    }
   ],
   "source": [
    "import tensorflow as tf\n",
    "from tensorflow import keras\n",
    "\n",
    "import sys\n",
    "import matplotlib.pyplot as plt\n",
    "import numpy as np\n",
    "\n",
    "print(f\"Python    : {sys.version.split()[0]}\")\n",
    "print(f\"tensorflow: {tf.__version__} incluant keras {keras.__version__}\")\n",
    "print(f\"numpy     : {np.__version__}\")"
   ]
  },
  {
   "cell_type": "markdown",
   "metadata": {},
   "source": [
    "Incrustation des tracés matplotlib dans le notebook et import de modules utiles :"
   ]
  },
  {
   "cell_type": "code",
   "execution_count": 3,
   "metadata": {
    "scrolled": true,
    "tags": []
   },
   "outputs": [],
   "source": [
    "%matplotlib inline"
   ]
  },
  {
   "cell_type": "markdown",
   "metadata": {},
   "source": [
    "Specific tools:"
   ]
  },
  {
   "cell_type": "code",
   "execution_count": 4,
   "metadata": {
    "scrolled": true,
    "tags": []
   },
   "outputs": [],
   "source": [
    "from utils.tools import plot_loss_accuracy"
   ]
  },
  {
   "cell_type": "markdown",
   "metadata": {},
   "source": [
    "# 2 $-$ Reproducibility of pseudo-random generators <a name=\"2\"></a>"
   ]
  },
  {
   "cell_type": "markdown",
   "metadata": {},
   "source": [
    "## The Reproducibility problem:"
   ]
  },
  {
   "cell_type": "markdown",
   "metadata": {},
   "source": [
    "The weights of a neural network are initialized by __random values__ : when pseudo-random generators are invoked several times in succession, different random sequence are created at each invocation. For example with `numpy.random.rand`:"
   ]
  },
  {
   "cell_type": "code",
   "execution_count": 5,
   "metadata": {
    "tags": []
   },
   "outputs": [
    {
     "name": "stdout",
     "output_type": "stream",
     "text": [
      "[0.28721179 0.70299827 0.94749854 0.20506369 0.24516214 0.77461469]\n",
      "[0.87319164 0.89818532 0.90595453 0.98835233 0.24325214 0.12481963]\n",
      "[0.63190415 0.31816555 0.44755484 0.21425815 0.977322   0.05768056]\n",
      "[0.92539785 0.21472509 0.9041037  0.72071601 0.6909041  0.87314986]\n",
      "[0.29746192 0.05838444 0.59836784 0.67536494 0.67493129 0.53290992]\n"
     ]
    }
   ],
   "source": [
    "import numpy as np\n",
    "for _ in range(5):\n",
    "    print(np.random.rand(6))"
   ]
  },
  {
   "cell_type": "markdown",
   "metadata": {
    "tags": []
   },
   "source": [
    "<h3 style=\"color:brown\">point of interest</h3>\n",
    "\n",
    "<span style=\"color:brown\">This behavior can be very inappropriate when studying the performance of a trained network as a function of meta-parameters:<br>every time you run the training of the neural network (runing the cell or the notebook) with different values of the meta-parameters, you get a different initial state of the network, leading to a different training network...\n",
    "</spawn>"
   ]
  },
  {
   "cell_type": "markdown",
   "metadata": {},
   "source": [
    "[top](#top)"
   ]
  },
  {
   "cell_type": "markdown",
   "metadata": {},
   "source": [
    "## A way to ensure reproductibility "
   ]
  },
  {
   "cell_type": "markdown",
   "metadata": {},
   "source": [
    "### The seed of random generators"
   ]
  },
  {
   "cell_type": "markdown",
   "metadata": {},
   "source": [
    "The technical solution to get a reproducible random sequence from a (pseudo) random generator is to set the __seed__ of the generator.<br>\n",
    "\n",
    "The following cells illustrate the mechanism:"
   ]
  },
  {
   "cell_type": "code",
   "execution_count": 6,
   "metadata": {
    "tags": []
   },
   "outputs": [
    {
     "name": "stdout",
     "output_type": "stream",
     "text": [
      "[0.19151945 0.62210877 0.43772774 0.78535858 0.77997581]\n",
      "[0.19151945 0.62210877 0.43772774 0.78535858 0.77997581]\n",
      "[0.19151945 0.62210877 0.43772774 0.78535858 0.77997581]\n",
      "[0.19151945 0.62210877 0.43772774 0.78535858 0.77997581]\n",
      "[0.19151945 0.62210877 0.43772774 0.78535858 0.77997581]\n"
     ]
    }
   ],
   "source": [
    "for _ in range(5):\n",
    "    np.random.seed(1234)\n",
    "    print(np.random.rand(5))"
   ]
  },
  {
   "cell_type": "markdown",
   "metadata": {},
   "source": [
    "<h3 style=\"color:brown\">point of interest</h3>\n",
    "\n",
    "<span style=\"color:brown\">Setting the __seed__ ensure that the random sequence is the same even on other computers (Windows, Mac, Linux...)\n",
    "</spawn>"
   ]
  },
  {
   "cell_type": "markdown",
   "metadata": {},
   "source": [
    "Of course if you change the seed you get a different random sequence:"
   ]
  },
  {
   "cell_type": "code",
   "execution_count": 7,
   "metadata": {},
   "outputs": [],
   "source": [
    "SEED = 2345"
   ]
  },
  {
   "cell_type": "code",
   "execution_count": 8,
   "metadata": {},
   "outputs": [
    {
     "name": "stdout",
     "output_type": "stream",
     "text": [
      "[0.66064431 0.41360065 0.66810256 0.22994342 0.80767834]\n",
      "[0.66064431 0.41360065 0.66810256 0.22994342 0.80767834]\n",
      "[0.66064431 0.41360065 0.66810256 0.22994342 0.80767834]\n",
      "[0.66064431 0.41360065 0.66810256 0.22994342 0.80767834]\n",
      "[0.66064431 0.41360065 0.66810256 0.22994342 0.80767834]\n"
     ]
    }
   ],
   "source": [
    "for _ in range(5):\n",
    "    np.random.seed(SEED)\n",
    "    print(np.random.rand(5))"
   ]
  },
  {
   "cell_type": "code",
   "execution_count": 9,
   "metadata": {
    "tags": []
   },
   "outputs": [
    {
     "data": {
      "text/plain": [
       "array([0.66064431, 0.41360065, 0.66810256, 0.22994342, 0.80767834])"
      ]
     },
     "execution_count": 9,
     "metadata": {},
     "output_type": "execute_result"
    }
   ],
   "source": [
    "np.random.seed(SEED)\n",
    "np.random.rand(5)"
   ]
  },
  {
   "cell_type": "code",
   "execution_count": 10,
   "metadata": {
    "tags": []
   },
   "outputs": [
    {
     "data": {
      "text/plain": [
       "array([0.63681846, 0.17219385, 0.26038587, 0.91531999, 0.46281551])"
      ]
     },
     "execution_count": 10,
     "metadata": {},
     "output_type": "execute_result"
    }
   ],
   "source": [
    "np.random.rand(5)"
   ]
  },
  {
   "cell_type": "markdown",
   "metadata": {},
   "source": [
    "[top](#top)"
   ]
  },
  {
   "cell_type": "markdown",
   "metadata": {},
   "source": [
    "## 3 $-$ A simple example with the MNIST hand-written database <a name=\"3\"></a>"
   ]
  },
  {
   "cell_type": "markdown",
   "metadata": {},
   "source": [
    "Load the MNIST database:"
   ]
  },
  {
   "cell_type": "code",
   "execution_count": 11,
   "metadata": {
    "tags": []
   },
   "outputs": [],
   "source": [
    "(im_train, lab_train), (im_test, lab_test) = keras.datasets.mnist.load_data()"
   ]
  },
  {
   "cell_type": "markdown",
   "metadata": {},
   "source": [
    "Have a look the shape of the ndarrays:"
   ]
  },
  {
   "cell_type": "code",
   "execution_count": 12,
   "metadata": {
    "tags": []
   },
   "outputs": [
    {
     "name": "stdout",
     "output_type": "stream",
     "text": [
      "im_train -> shape: (60000, 28, 28) , dtype: uint8\n",
      "im_test  -> shape: (10000, 28, 28) , dtype: uint8\n",
      "lab_train-> shape: (60000,) , dtype: uint8\n",
      "lab_test -> shape: (10000,) , dtype: uint8\n"
     ]
    }
   ],
   "source": [
    "print(\"im_train -> shape:\", im_train.shape, \", dtype:\", im_train.dtype,)\n",
    "print(\"im_test  -> shape:\", im_test.shape,  \", dtype:\", im_test.dtype,)\n",
    "print(\"lab_train-> shape:\", lab_train.shape,  \", dtype:\", lab_train.dtype)\n",
    "print(\"lab_test -> shape:\", lab_test.shape,  \", dtype:\", lab_test.dtype)"
   ]
  },
  {
   "cell_type": "markdown",
   "metadata": {},
   "source": [
    "### Visualization of images and labels:"
   ]
  },
  {
   "cell_type": "code",
   "execution_count": 13,
   "metadata": {
    "tags": []
   },
   "outputs": [
    {
     "data": {
      "image/png": "[encoded data removed]",
      "text/plain": [
       "<Figure size 200x200 with 1 Axes>"
      ]
     },
     "metadata": {},
     "output_type": "display_data"
    }
   ],
   "source": [
    "plt.figure(figsize=(2,2))\n",
    "plt.imshow(im_train[599], cmap='gray')\n",
    "plt.xticks([]); plt.yticks([]);"
   ]
  },
  {
   "cell_type": "markdown",
   "metadata": {},
   "source": [
    "Let's check that the MNIST label associated with `im_train[600]` corresponds to what we see on the image:"
   ]
  },
  {
   "cell_type": "code",
   "execution_count": 14,
   "metadata": {
    "tags": []
   },
   "outputs": [
    {
     "data": {
      "text/plain": [
       "7"
      ]
     },
     "execution_count": 14,
     "metadata": {},
     "output_type": "execute_result"
    }
   ],
   "source": [
    "lab_train[599]"
   ]
  },
  {
   "cell_type": "markdown",
   "metadata": {},
   "source": [
    "In the cell below, we sort the images and display lines of '0', lines of '1'... :"
   ]
  },
  {
   "cell_type": "code",
   "execution_count": 15,
   "metadata": {
    "tags": []
   },
   "outputs": [
    {
     "data": {
      "image/png": "[encoded data removed]",
      "text/plain": [
       "<Figure size 900x500 with 160 Axes>"
      ]
     },
     "metadata": {},
     "output_type": "display_data"
    }
   ],
   "source": [
    "data = []\n",
    "for i in range(10):\n",
    "    indexes = np.where(lab_train == i) # indices des labels égaux à i\n",
    "    i_data = im_train[indexes][:16]    # tableau des images correspondates\n",
    "    data.append(i_data)\n",
    "\n",
    "plt.figure(figsize=(9,5))\n",
    "L, C = len(data), len(data[0])\n",
    "for row, digits in enumerate(data):\n",
    "    for col, digit in enumerate(digits):\n",
    "        plt.subplot(L, C , row*C + col + 1)\n",
    "        plt.imshow(digit, cmap='gray')\n",
    "        plt.xticks([]); plt.yticks([])\n",
    "        plt.box(False)\n",
    "plt.show()        "
   ]
  },
  {
   "cell_type": "markdown",
   "metadata": {},
   "source": [
    "### MNIST data pre-processing"
   ]
  },
  {
   "cell_type": "markdown",
   "metadata": {},
   "source": [
    "To avoid \"hard banging\" the _number of training and test images_ as well as _the size of the images_, we retrieve these parameters:\n",
    "- with the `shape` attribute of the `im_train` and `im_test` arrays\n",
    "- with the `size` attribute of the first training image for example"
   ]
  },
  {
   "cell_type": "code",
   "execution_count": 16,
   "metadata": {
    "tags": []
   },
   "outputs": [
    {
     "name": "stdout",
     "output_type": "stream",
     "text": [
      "60000 training images and 10000 test images\n",
      "784 pixels in every image\n"
     ]
    }
   ],
   "source": [
    "nb_im_train = im_train.shape[0]    # nb of training images\n",
    "nb_im_test  = im_test.shape[0]     # nb of test images\n",
    "nb_pixel    = im_train[0].size     # nb of alements (pixels) of the first training image \n",
    "nb_classe   = len(set(lab_train))  # nb of classe to be identified (the 10 digits from 0 to 9)\n",
    "\n",
    "# Check:\n",
    "print(f\"{nb_im_train} training images and {nb_im_test} test images\")\n",
    "print(f\"{nb_pixel} pixels in every image\")"
   ]
  },
  {
   "cell_type": "markdown",
   "metadata": {},
   "source": [
    "### Transformation of input matrices into normalized vectors:"
   ]
  },
  {
   "cell_type": "markdown",
   "metadata": {},
   "source": [
    "Now let's define the `x_train` and `x_test` arrays containing the matrices of the `im_train` and `im_test` arrays *flattened* as normalized vectors (values between 0 and 1):"
   ]
  },
  {
   "cell_type": "code",
   "execution_count": 17,
   "metadata": {
    "tags": []
   },
   "outputs": [
    {
     "name": "stdout",
     "output_type": "stream",
     "text": [
      "x_train.shape=(60000, 784), x_test.shape=(10000, 784)\n",
      "x_train.min()=0.0, x_train.max()=1.0\n",
      "x_test.min()=0.0, x_test.max()=1.0\n"
     ]
    }
   ],
   "source": [
    "x_train = im_train.reshape(nb_im_train, nb_pixel)/im_train.max()\n",
    "x_test  = im_test.reshape(nb_im_test, nb_pixel)/im_test.max()\n",
    "\n",
    "print(f\"{x_train.shape=}, {x_test.shape=}\")\n",
    "print(f\"{x_train.min()=}, {x_train.max()=}\")\n",
    "print(f\"{x_test.min()=}, {x_test.max()=}\")"
   ]
  },
  {
   "cell_type": "markdown",
   "metadata": {},
   "source": [
    "### *one-hot* encoding of labels:"
   ]
  },
  {
   "cell_type": "markdown",
   "metadata": {},
   "source": [
    "We use the `to_categorical` function (see [tf.keras.utils.to_categorical](https://www.tensorflow.org/api_docs/python/tf/keras/utils/to_categorical)) to define the new arrays `y_train` et `y_test` holding the *hot-one* codings of `lab_train` and `lab_test` :"
   ]
  },
  {
   "cell_type": "code",
   "execution_count": 18,
   "metadata": {
    "tags": []
   },
   "outputs": [
    {
     "name": "stdout",
     "output_type": "stream",
     "text": [
      "[5 0 4 1 9 2 1 3 1 4]\n",
      "[[0. 0. 0. 0. 0. 1. 0. 0. 0. 0.]\n",
      " [1. 0. 0. 0. 0. 0. 0. 0. 0. 0.]\n",
      " [0. 0. 0. 0. 1. 0. 0. 0. 0. 0.]\n",
      " [0. 1. 0. 0. 0. 0. 0. 0. 0. 0.]\n",
      " [0. 0. 0. 0. 0. 0. 0. 0. 0. 1.]\n",
      " [0. 0. 1. 0. 0. 0. 0. 0. 0. 0.]\n",
      " [0. 1. 0. 0. 0. 0. 0. 0. 0. 0.]\n",
      " [0. 0. 0. 1. 0. 0. 0. 0. 0. 0.]\n",
      " [0. 1. 0. 0. 0. 0. 0. 0. 0. 0.]\n",
      " [0. 0. 0. 0. 1. 0. 0. 0. 0. 0.]]\n"
     ]
    }
   ],
   "source": [
    "from tensorflow.keras.utils import to_categorical\n",
    "\n",
    "# 'one-hot' encoding' des labels :\n",
    "y_train = to_categorical(lab_train)\n",
    "y_test  = to_categorical(lab_test)\n",
    "\n",
    "print(lab_train[:10])\n",
    "print(y_train[:10])"
   ]
  },
  {
   "cell_type": "markdown",
   "metadata": {},
   "source": [
    "[top](#top)"
   ]
  },
  {
   "cell_type": "markdown",
   "metadata": {},
   "source": [
    "## 4 $-$ Construction of the neural network<a name=\"4\"></a>"
   ]
  },
  {
   "cell_type": "markdown",
   "metadata": {},
   "source": [
    " To get very short computation times we build a very simple dense network to classify MNIST images : of course, this is not the \"state of the art\" : convolutive NN, transformers have much more impressive scores, but we just want want short training computation time:\n",
    "We build a naive **dense network**, with:\n",
    "- an **input layer** of 784 values (the pixels of the MNIST 28 $\\times$ 28 images put in the form of a vector of 784 normalized `float` numbers),\n",
    "- a **hidden layer** of 784 neurons using the `relu` activation function,\n",
    "- an **output layer** of 10 neurons, for the classification of the 10 digits {0,1,2...9}, using the `softmax` activation function adapted to classification problems .\n",
    "\n",
    "<p style=\"text-align:center; font-style:italic; font-size:12px;\">\n",
    "     <img src=\"img/archiNetwork.png\" alt=\"archiNetwork.png\" style=\"width: 900px;\"><br>\n",
    "     [image credit: JLC]"
   ]
  },
  {
   "cell_type": "code",
   "execution_count": 19,
   "metadata": {},
   "outputs": [],
   "source": [
    "from tensorflow.keras.models import Sequential\n",
    "from tensorflow.keras.layers import Dense, Input\n",
    "\n",
    "# set tensorflow seed:\n",
    "tf.random.set_seed(1234)\n",
    "\n",
    "# The 5 lines to build the dense network:\n",
    "model = Sequential()\n",
    "model.add(Input(shape=(nb_pixel,), name='input'))\n",
    "model.add(Dense(nb_pixel, activation='relu', name='c1'))\n",
    "model.add(Dense(nb_classe, activation='softmax', name='c2'))\n",
    "model.compile(loss='categorical_crossentropy', optimizer='adam',  metrics=['accuracy'])"
   ]
  },
  {
   "cell_type": "markdown",
   "metadata": {},
   "source": [
    "### Saving the state of the NN"
   ]
  },
  {
   "cell_type": "markdown",
   "metadata": {},
   "source": [
    "We can save the __initial random state__ of the weights of the untrained network with the `save_weights` method of the `Sequential` class:"
   ]
  },
  {
   "cell_type": "code",
   "execution_count": 20,
   "metadata": {},
   "outputs": [
    {
     "name": "stdout",
     "output_type": "stream",
     "text": [
      "weights\\checkpoint\n",
      "weights\\initialNN.data-00000-of-00001\n",
      "weights\\initialNN.index\n",
      "weights\\initialNN_w10.data-00000-of-00001\n",
      "weights\\initialNN_w10.index\n"
     ]
    }
   ],
   "source": [
    "import os\n",
    "\n",
    "# check if the 'weights' directory exists, otherwise create it:\n",
    "if not os.path.isdir(\"weights\"): os.mkdir(\"weights\")\n",
    "\n",
    "#saving the initial values of the NN weights:\n",
    "key = 'initialNN_w10'\n",
    "model.save_weights('weights/'+key)\n",
    "\n",
    "# display the created files:\n",
    "files=[os.path.join(\"weights\",f) for f in os.listdir(\"weights\")]\n",
    "files.sort()\n",
    "for f in files: print(f)"
   ]
  },
  {
   "cell_type": "markdown",
   "metadata": {
    "tags": []
   },
   "source": [
    "<h3 style=\"color:brown\">Point of interest:</h3>\n",
    "\n",
    "<span style=\"color:brown\">$\\leadsto$ This can be useful to reset the network to its initial state before running new trainings\n",
    "</spawn>"
   ]
  },
  {
   "cell_type": "markdown",
   "metadata": {},
   "source": [
    "### Saving the full structure and the weights of the NN"
   ]
  },
  {
   "cell_type": "markdown",
   "metadata": {},
   "source": [
    "The `save` method of the `Sequential` class allows to save in files **the full structure and the weights** of the NN:"
   ]
  },
  {
   "cell_type": "code",
   "execution_count": 21,
   "metadata": {},
   "outputs": [
    {
     "name": "stdout",
     "output_type": "stream",
     "text": [
      "INFO:tensorflow:Assets written to: models/initialNN_w10\\assets\n",
      "models\\initialNN_w10\n"
     ]
    }
   ],
   "source": [
    "import os\n",
    "\n",
    "# check if the 'weights' directory exists, otherwise create it:\n",
    "if not os.path.isdir(\"models\"): os.mkdir(\"models\")\n",
    "\n",
    "#saving the initial values of the NN weights:\n",
    "key = 'initialNN_w10'\n",
    "model.save('models/'+key) \n",
    "\n",
    "# display the created files:\n",
    "files=[os.path.join(\"models\",f) for f in os.listdir(\"models\") if f.startswith(key)]\n",
    "for f in files: print(f)"
   ]
  },
  {
   "cell_type": "markdown",
   "metadata": {
    "tags": []
   },
   "source": [
    "<h3 style=\"color:brown\">Point of interest:</h3>\n",
    "\n",
    "<span style=\"color:brown\">We can re-create later from scratch the entire network (initial or trained state) with the __tf.keras.models.load_model__ function.\n",
    "</spawn>"
   ]
  },
  {
   "cell_type": "markdown",
   "metadata": {},
   "source": [
    "### Training the network"
   ]
  },
  {
   "cell_type": "markdown",
   "metadata": {},
   "source": [
    "For the purposes of the discussion we will use a low value of the parameter n_epoch (5)"
   ]
  },
  {
   "cell_type": "code",
   "execution_count": 25,
   "metadata": {
    "tags": []
   },
   "outputs": [],
   "source": [
    "from tensorflow.keras.models import Sequential\n",
    "from tensorflow.keras.layers import Dense, Input\n",
    "    \n",
    "def build_NN(seed=None):\n",
    "    if seed is not None: tf.random.set_seed(seed)    \n",
    "    # The 5 lines to build the dense network:\n",
    "    model = Sequential()\n",
    "    model.add(Input(shape=(nb_pixel,), name='input'))\n",
    "    model.add(Dense(nb_pixel, activation='relu', name='c1'))\n",
    "    model.add(Dense(nb_classe, activation='softmax', name='c2'))\n",
    "    model.compile(loss='categorical_crossentropy', optimizer='adam',  metrics=['accuracy'])\n",
    "    \n",
    "    return model"
   ]
  },
  {
   "cell_type": "markdown",
   "metadata": {},
   "source": [
    "[top](#top)"
   ]
  },
  {
   "cell_type": "markdown",
   "metadata": {},
   "source": [
    "## 5 $-$ The reproducibility of the training <a name=\"5\"></a>"
   ]
  },
  {
   "cell_type": "markdown",
   "metadata": {},
   "source": [
    "Perfect reproducibility of a neural network training may be difficult to achieve with tensorflow..."
   ]
  },
  {
   "cell_type": "markdown",
   "metadata": {},
   "source": [
    "### Reproducibility on one `epoch`"
   ]
  },
  {
   "cell_type": "markdown",
   "metadata": {},
   "source": [
    "To highlight the question of reproducibility we begin by training the network with only __one epoch__:`n_epoch=1`.<br>\n",
    "In the cell bellow, the initial state of the network is reloaded at each turn of the loop **before running the training with `fit`**:<br>"
   ]
  },
  {
   "cell_type": "markdown",
   "metadata": {},
   "source": [
    "If we don't set the seed, the training is not reproducible:"
   ]
  },
  {
   "cell_type": "code",
   "execution_count": 33,
   "metadata": {},
   "outputs": [
    {
     "name": "stdout",
     "output_type": "stream",
     "text": [
      "469/469 [==============================] - 4s 9ms/step - loss: 0.2475 - accuracy: 0.9287 - val_loss: 0.1237 - val_accuracy: 0.9626\n",
      "469/469 [==============================] - 4s 9ms/step - loss: 0.2498 - accuracy: 0.9287 - val_loss: 0.1251 - val_accuracy: 0.9633\n",
      "469/469 [==============================] - 4s 8ms/step - loss: 0.2479 - accuracy: 0.9284 - val_loss: 0.1245 - val_accuracy: 0.9632\n",
      "469/469 [==============================] - 4s 9ms/step - loss: 0.2462 - accuracy: 0.9299 - val_loss: 0.1223 - val_accuracy: 0.9654\n",
      "469/469 [==============================] - 4s 9ms/step - loss: 0.2489 - accuracy: 0.9281 - val_loss: 0.1242 - val_accuracy: 0.9626\n"
     ]
    }
   ],
   "source": [
    "for _ in range(5):\n",
    "    \n",
    "    # Build a new network at each time\n",
    "    model = build_NN()\n",
    "\n",
    "    hist = model.fit(x_train, y_train, epochs=1, batch_size=128, validation_data=(x_test, y_test))"
   ]
  },
  {
   "cell_type": "markdown",
   "metadata": {},
   "source": [
    "Is the seed is set, the training is reproductible:"
   ]
  },
  {
   "cell_type": "code",
   "execution_count": 34,
   "metadata": {},
   "outputs": [
    {
     "name": "stdout",
     "output_type": "stream",
     "text": [
      "469/469 [==============================] - 4s 9ms/step - loss: 0.2479 - accuracy: 0.9293 - val_loss: 0.1263 - val_accuracy: 0.9636\n",
      "469/469 [==============================] - 4s 8ms/step - loss: 0.2479 - accuracy: 0.9293 - val_loss: 0.1263 - val_accuracy: 0.9636\n",
      "469/469 [==============================] - 4s 9ms/step - loss: 0.2479 - accuracy: 0.9293 - val_loss: 0.1263 - val_accuracy: 0.9636\n",
      "469/469 [==============================] - 4s 9ms/step - loss: 0.2479 - accuracy: 0.9293 - val_loss: 0.1263 - val_accuracy: 0.9636\n",
      "469/469 [==============================] - 6s 13ms/step - loss: 0.2479 - accuracy: 0.9293 - val_loss: 0.1263 - val_accuracy: 0.9636\n"
     ]
    }
   ],
   "source": [
    "for _ in range(5):\n",
    "    \n",
    "    # Build a new network at each time\n",
    "    model = build_NN(1234)\n",
    "\n",
    "    hist = model.fit(x_train, y_train, epochs=1, batch_size=128, validation_data=(x_test, y_test))"
   ]
  },
  {
   "cell_type": "markdown",
   "metadata": {},
   "source": [
    "# Autres ressources intéressantes... des vidéos :"
   ]
  },
  {
   "cell_type": "code",
   "execution_count": null,
   "metadata": {
    "tags": []
   },
   "outputs": [],
   "source": [
    "%%HTML\n",
    "<iframe src=\"https://www.youtube.com/embed/trWrEWfhTVg\" width=\"800\" height=\"450\" frameborder=\"0\" allow=\"accelerometer; autoplay; encrypted-media; gyroscope; picture-in-picture\" allowfullscreen></iframe>"
   ]
  },
  {
   "cell_type": "code",
   "execution_count": null,
   "metadata": {
    "tags": []
   },
   "outputs": [],
   "source": [
    "%%HTML\n",
    "<iframe src=\"https://www.youtube.com/embed/aircAruvnKk\" width=\"800\" height=\"450\" frameborder=\"0\" allow=\"accelerometer; autoplay; encrypted-media; gyroscope; picture-in-picture\" allowfullscreen></iframe>"
   ]
  },
  {
   "cell_type": "code",
   "execution_count": null,
   "metadata": {
    "tags": []
   },
   "outputs": [],
   "source": [
    "%%HTML\n",
    "<iframe src=\"https://www.youtube.com/embed/IHZwWFHWa-w\" width=\"800\" height=\"450\" frameborder=\"0\" allow=\"accelerometer; autoplay; encrypted-media; gyroscope; picture-in-picture\" allowfullscreen></iframe>"
   ]
  },
  {
   "cell_type": "code",
   "execution_count": null,
   "metadata": {
    "tags": []
   },
   "outputs": [],
   "source": [
    "%%HTML\n",
    "<iframe src=\"https://www.youtube.com/embed/Ilg3gGewQ5U\" width=\"800\" height=\"450\" frameborder=\"0\" allow=\"accelerometer; autoplay; encrypted-media; gyroscope; picture-in-picture\" allowfullscreen></iframe>"
   ]
  },
  {
   "cell_type": "code",
   "execution_count": null,
   "metadata": {},
   "outputs": [],
   "source": []
  },
  {
   "cell_type": "code",
   "execution_count": null,
   "metadata": {},
   "outputs": [],
   "source": []
  },
  {
   "cell_type": "markdown",
   "metadata": {},
   "source": [
    "### The seed of TF random generator"
   ]
  },
  {
   "cell_type": "markdown",
   "metadata": {},
   "source": [
    "To apply this mechanism to tensorflow, we can use the `set_seed` function (see page [tf.random.set_seed](https://www.tensorflow.org/api_docs/python/tf/random/set_seed)) :\n",
    "**`tf.random.set_seed(SEED)`**"
   ]
  },
  {
   "cell_type": "code",
   "execution_count": 9,
   "metadata": {
    "tags": []
   },
   "outputs": [
    {
     "name": "stdout",
     "output_type": "stream",
     "text": [
      "tf.Tensor([0.86926746 0.88675964 0.20335901 0.19382417], shape=(4,), dtype=float32)\n",
      "tf.Tensor([0.25484586 0.26162863 0.32027018 0.56117284], shape=(4,), dtype=float32)\n"
     ]
    }
   ],
   "source": [
    "print(tf.random.uniform([4]))  #\n",
    "print(tf.random.uniform([4]))  #"
   ]
  },
  {
   "cell_type": "code",
   "execution_count": 10,
   "metadata": {
    "tags": []
   },
   "outputs": [
    {
     "name": "stdout",
     "output_type": "stream",
     "text": [
      "tf.Tensor([0.27649856 0.69480824 0.4428755  0.19380927], shape=(4,), dtype=float32)\n",
      "tf.Tensor([0.28420365 0.5790794  0.63630104 0.3320843 ], shape=(4,), dtype=float32)\n"
     ]
    }
   ],
   "source": [
    "print(tf.random.uniform([4]))  #\n",
    "print(tf.random.uniform([4]))  #"
   ]
  },
  {
   "cell_type": "code",
   "execution_count": null,
   "metadata": {},
   "outputs": [],
   "source": []
  },
  {
   "cell_type": "code",
   "execution_count": 11,
   "metadata": {
    "tags": []
   },
   "outputs": [
    {
     "name": "stdout",
     "output_type": "stream",
     "text": [
      "tf.Tensor([0.5380393  0.36461866 0.5816301  0.24382842], shape=(4,), dtype=float32)\n",
      "tf.Tensor([0.3253647  0.1387006  0.64804935 0.30401838], shape=(4,), dtype=float32)\n"
     ]
    }
   ],
   "source": [
    "tf.random.set_seed(1234)\n",
    "print(tf.random.uniform([4]))  #\n",
    "print(tf.random.uniform([4]))  #"
   ]
  },
  {
   "cell_type": "code",
   "execution_count": 12,
   "metadata": {
    "jupyter": {
     "source_hidden": true
    },
    "tags": []
   },
   "outputs": [
    {
     "name": "stdout",
     "output_type": "stream",
     "text": [
      "tf.Tensor([0.5380393  0.36461866 0.5816301  0.24382842], shape=(4,), dtype=float32)\n",
      "tf.Tensor([0.3253647  0.1387006  0.64804935 0.30401838], shape=(4,), dtype=float32)\n"
     ]
    }
   ],
   "source": [
    "tf.random.set_seed(1234)\n",
    "print(tf.random.uniform([4]))  #\n",
    "print(tf.random.uniform([4]))  #"
   ]
  }
 ],
 "metadata": {
  "kernelspec": {
   "display_name": "Python 3 (ipykernel)",
   "language": "python",
   "name": "python3"
  },
  "language_info": {
   "codemirror_mode": {
    "name": "ipython",
    "version": 3
   },
   "file_extension": ".py",
   "mimetype": "text/x-python",
   "name": "python",
   "nbconvert_exporter": "python",
   "pygments_lexer": "ipython3",
   "version": "3.8.13"
  }
 },
 "nbformat": 4,
 "nbformat_minor": 4
}
